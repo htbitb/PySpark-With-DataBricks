{
 "cells": [
  {
   "cell_type": "code",
   "execution_count": 0,
   "metadata": {
    "application/vnd.databricks.v1+cell": {
     "cellMetadata": {
      "byteLimit": 2048000,
      "rowLimit": 10000
     },
     "inputWidgets": {},
     "nuid": "9b9b81f2-3cfd-4e1c-9c8f-df7295671165",
     "showTitle": false,
     "title": ""
    }
   },
   "outputs": [],
   "source": [
    "from pyspark.sql import SparkSession\n",
    "from pyspark.sql.types import StructType, StructField, StringType"
   ]
  },
  {
   "cell_type": "code",
   "execution_count": 0,
   "metadata": {
    "application/vnd.databricks.v1+cell": {
     "cellMetadata": {
      "byteLimit": 2048000,
      "rowLimit": 10000
     },
     "inputWidgets": {},
     "nuid": "3705693a-2ace-48d7-8db5-0bc7161cd4a6",
     "showTitle": false,
     "title": ""
    }
   },
   "outputs": [],
   "source": [
    "spark = (SparkSession.builder.appName(\"SalesAnalytics\").getOrCreate())"
   ]
  },
  {
   "cell_type": "markdown",
   "metadata": {
    "application/vnd.databricks.v1+cell": {
     "cellMetadata": {},
     "inputWidgets": {},
     "nuid": "83b43283-dc41-4cde-b6d9-df05834e1d22",
     "showTitle": false,
     "title": ""
    }
   },
   "source": [
    "## Data preparation"
   ]
  },
  {
   "cell_type": "code",
   "execution_count": 0,
   "metadata": {
    "application/vnd.databricks.v1+cell": {
     "cellMetadata": {
      "byteLimit": 2048000,
      "rowLimit": 10000
     },
     "inputWidgets": {},
     "nuid": "9d1bceb2-0188-4def-be50-8c6268783d2f",
     "showTitle": false,
     "title": ""
    }
   },
   "outputs": [],
   "source": [
    "schema = StructType([\n",
    "    StructField(\"Order ID\", StringType(), True),\n",
    "    StructField(\"Product\", StringType(), True),\n",
    "    StructField(\"Quantity Ordered\", StringType(), True),\n",
    "    StructField(\"Price Each\", StringType(), True),\n",
    "    StructField(\"Order Date\", StringType(), True),\n",
    "    StructField(\"Purchase Address\", StringType(), True),\n",
    "])"
   ]
  },
  {
   "cell_type": "code",
   "execution_count": 0,
   "metadata": {
    "application/vnd.databricks.v1+cell": {
     "cellMetadata": {
      "byteLimit": 2048000,
      "rowLimit": 10000
     },
     "inputWidgets": {},
     "nuid": "1d116143-dfb2-4db3-8583-83512ba733a9",
     "showTitle": false,
     "title": ""
    }
   },
   "outputs": [],
   "source": [
    "sales_data_path = \"dbfs:/FileStore/shared_uploads/htb29021996@gmail.com/salesdata/\"\n",
    "sales_raw_df = (spark.read.format(\"csv\")\n",
    "                .option(\"header\", True)\n",
    "                .schema(schema)\n",
    "                .load(sales_data_path)\n",
    "                )"
   ]
  },
  {
   "cell_type": "code",
   "execution_count": 0,
   "metadata": {
    "application/vnd.databricks.v1+cell": {
     "cellMetadata": {
      "byteLimit": 2048000,
      "rowLimit": 10000
     },
     "inputWidgets": {},
     "nuid": "d1168519-49fb-49ea-88e8-8a0439f3580e",
     "showTitle": false,
     "title": ""
    }
   },
   "outputs": [
    {
     "output_type": "stream",
     "name": "stdout",
     "output_type": "stream",
     "text": [
      "+--------+--------------------+----------------+----------+--------------+--------------------+\n|Order ID|             Product|Quantity Ordered|Price Each|    Order Date|    Purchase Address|\n+--------+--------------------+----------------+----------+--------------+--------------------+\n|  295665|  Macbook Pro Laptop|               1|      1700|12/30/19 00:01|136 Church St, Ne...|\n|  295666|  LG Washing Machine|               1|     600.0|12/29/19 07:03|562 2nd St, New Y...|\n|  295667|USB-C Charging Cable|               1|     11.95|12/12/19 18:21|277 Main St, New ...|\n|  295668|    27in FHD Monitor|               1|    149.99|12/22/19 15:13|410 6th St, San F...|\n|  295669|USB-C Charging Cable|               1|     11.95|12/18/19 12:38|43 Hill St, Atlan...|\n|  295670|AA Batteries (4-p...|               1|      3.84|12/31/19 22:58|200 Jefferson St,...|\n|  295671|USB-C Charging Cable|               1|     11.95|12/16/19 15:10|928 12th St, Port...|\n|  295672|USB-C Charging Cable|               2|     11.95|12/13/19 09:29|813 Hickory St, D...|\n|  295673|Bose SoundSport H...|               1|     99.99|12/15/19 23:26|718 Wilson St, Da...|\n|  295674|AAA Batteries (4-...|               4|      2.99|12/28/19 11:51|77 7th St, Dallas...|\n+--------+--------------------+----------------+----------+--------------+--------------------+\nonly showing top 10 rows\n\n"
     ]
    }
   ],
   "source": [
    "sales_raw_df.show(10)"
   ]
  },
  {
   "cell_type": "code",
   "execution_count": 0,
   "metadata": {
    "application/vnd.databricks.v1+cell": {
     "cellMetadata": {
      "byteLimit": 2048000,
      "rowLimit": 10000
     },
     "inputWidgets": {},
     "nuid": "dea1369e-c2f7-45cf-860a-f47c89a97a0f",
     "showTitle": false,
     "title": ""
    }
   },
   "outputs": [
    {
     "output_type": "stream",
     "name": "stdout",
     "output_type": "stream",
     "text": [
      "root\n |-- Order ID: string (nullable = true)\n |-- Product: string (nullable = true)\n |-- Quantity Ordered: string (nullable = true)\n |-- Price Each: string (nullable = true)\n |-- Order Date: string (nullable = true)\n |-- Purchase Address: string (nullable = true)\n\n"
     ]
    }
   ],
   "source": [
    "sales_raw_df.printSchema()"
   ]
  },
  {
   "cell_type": "code",
   "execution_count": 0,
   "metadata": {
    "application/vnd.databricks.v1+cell": {
     "cellMetadata": {},
     "inputWidgets": {},
     "nuid": "75d809bb-7519-401f-85b6-2c659c2f955b",
     "showTitle": false,
     "title": ""
    }
   },
   "outputs": [],
   "source": []
  }
 ],
 "metadata": {
  "application/vnd.databricks.v1+notebook": {
   "dashboards": [],
   "language": "python",
   "notebookMetadata": {
    "pythonIndentUnit": 4
   },
   "notebookName": "SparkSalesAnalytics",
   "widgets": {}
  }
 },
 "nbformat": 4,
 "nbformat_minor": 0
}
