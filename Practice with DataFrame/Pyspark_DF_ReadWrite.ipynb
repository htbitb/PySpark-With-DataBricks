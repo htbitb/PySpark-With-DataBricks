{
 "cells": [
  {
   "cell_type": "code",
   "execution_count": 0,
   "metadata": {
    "application/vnd.databricks.v1+cell": {
     "cellMetadata": {
      "byteLimit": 2048000,
      "rowLimit": 10000
     },
     "inputWidgets": {},
     "nuid": "2384c402-c00c-4fe8-9f30-b9597b373655",
     "showTitle": false,
     "title": ""
    }
   },
   "outputs": [],
   "source": [
    "from pyspark.sql import SparkSession\n",
    "from pyspark.sql.types import StructType, StructField, StringType, IntegerType"
   ]
  },
  {
   "cell_type": "code",
   "execution_count": 0,
   "metadata": {
    "application/vnd.databricks.v1+cell": {
     "cellMetadata": {
      "byteLimit": 2048000,
      "rowLimit": 10000
     },
     "inputWidgets": {},
     "nuid": "a1eae524-34f0-4bb1-9649-3e43a0e3e401",
     "showTitle": false,
     "title": ""
    }
   },
   "outputs": [],
   "source": [
    "spark = (SparkSession.builder.appName(\"DFRead&Write\").getOrCreate())"
   ]
  },
  {
   "cell_type": "code",
   "execution_count": 0,
   "metadata": {
    "application/vnd.databricks.v1+cell": {
     "cellMetadata": {
      "byteLimit": 2048000,
      "rowLimit": 10000
     },
     "inputWidgets": {},
     "nuid": "8e76cc74-473e-41c5-97b0-45f59d175be3",
     "showTitle": false,
     "title": ""
    }
   },
   "outputs": [],
   "source": [
    "df1 = spark.read.format(\"csv\").option(\"header\", \"true\").load(\"dbfs:/FileStore/shared_uploads/htb29021996@gmail.com/fire_incidents-2.csv\")"
   ]
  },
  {
   "cell_type": "code",
   "execution_count": 0,
   "metadata": {
    "application/vnd.databricks.v1+cell": {
     "cellMetadata": {
      "byteLimit": 2048000,
      "rowLimit": 10000
     },
     "inputWidgets": {},
     "nuid": "eb86f26c-78ca-4e86-b07a-da47246de558",
     "showTitle": false,
     "title": ""
    }
   },
   "outputs": [
    {
     "output_type": "stream",
     "name": "stdout",
     "output_type": "stream",
     "text": [
      "+--------------+--------------------+-------------+\n|IncidentNumber|        IncidentDate|         City|\n+--------------+--------------------+-------------+\n|      20104668|2020-09-11T00:00:...|San Francisco|\n|      20104708|2020-09-11T00:00:...|San Francisco|\n|      20104648|2020-09-10T00:00:...|San Francisco|\n|      20104598|2020-09-10T00:00:...|San Francisco|\n|      20104575|2020-09-10T00:00:...|San Francisco|\n|      20104477|2020-09-10T00:00:...|San Francisco|\n|      20104443|2020-09-10T00:00:...|San Francisco|\n|      20104605|2020-09-10T00:00:...|San Francisco|\n|      20104474|2020-09-10T00:00:...|San Francisco|\n|      20104652|2020-09-10T00:00:...|San Francisco|\n+--------------+--------------------+-------------+\nonly showing top 10 rows\n\n"
     ]
    }
   ],
   "source": [
    "df1.select(\"IncidentNumber\", \"IncidentDate\", \"City\").show(10)"
   ]
  },
  {
   "cell_type": "code",
   "execution_count": 0,
   "metadata": {
    "application/vnd.databricks.v1+cell": {
     "cellMetadata": {
      "byteLimit": 2048000,
      "rowLimit": 10000
     },
     "inputWidgets": {},
     "nuid": "20739471-78b2-427d-986d-e60fac457395",
     "showTitle": false,
     "title": ""
    }
   },
   "outputs": [
    {
     "output_type": "stream",
     "name": "stdout",
     "output_type": "stream",
     "text": [
      "root\n |-- IncidentNumber: string (nullable = true)\n |-- ExposureNumber: string (nullable = true)\n |-- ID: string (nullable = true)\n |-- Address: string (nullable = true)\n |-- IncidentDate: string (nullable = true)\n |-- CallNumber: string (nullable = true)\n |-- AlarmDtTm: string (nullable = true)\n |-- ArrivalDtTm: string (nullable = true)\n |-- CloseDtTm: string (nullable = true)\n |-- City: string (nullable = true)\n |-- ZIPCode: string (nullable = true)\n |-- Battalion: string (nullable = true)\n |-- StationArea: string (nullable = true)\n |-- Box: string (nullable = true)\n |-- SuppressionUnits: string (nullable = true)\n |-- SuppressionPersonnel: string (nullable = true)\n |-- EMSUnits: string (nullable = true)\n |-- EMSPersonnel: string (nullable = true)\n |-- OtherUnits: string (nullable = true)\n |-- OtherPersonnel: string (nullable = true)\n |-- FirstUnitOnScene: string (nullable = true)\n |-- EstimatedPropertyLoss: string (nullable = true)\n |-- EstimatedContentsLoss: string (nullable = true)\n |-- FireFatalities: string (nullable = true)\n |-- FireInjuries: string (nullable = true)\n |-- CivilianFatalities: string (nullable = true)\n |-- CivilianInjuries: string (nullable = true)\n |-- NumberofAlarms: string (nullable = true)\n |-- PrimarySituation: string (nullable = true)\n |-- MutualAid: string (nullable = true)\n |-- ActionTakenPrimary: string (nullable = true)\n |-- ActionTakenSecondary: string (nullable = true)\n |-- ActionTakenOther: string (nullable = true)\n |-- DetectorAlertedOccupants: string (nullable = true)\n |-- PropertyUse: string (nullable = true)\n |-- AreaofFireOrigin: string (nullable = true)\n |-- IgnitionCause: string (nullable = true)\n |-- IgnitionFactorPrimary: string (nullable = true)\n |-- IgnitionFactorSecondary: string (nullable = true)\n |-- HeatSource: string (nullable = true)\n |-- ItemFirstIgnited: string (nullable = true)\n |-- HumanFactorsAssociatedwithIgnition: string (nullable = true)\n |-- StructureType: string (nullable = true)\n |-- StructureStatus: string (nullable = true)\n |-- FloorofFireOrigin: string (nullable = true)\n |-- FireSpread: string (nullable = true)\n |-- NoFlameSpead: string (nullable = true)\n |-- Numberoffloorswithminimumdamage: string (nullable = true)\n |-- Numberoffloorswithsignificantdamage: string (nullable = true)\n |-- Numberoffloorswithheavydamage: string (nullable = true)\n |-- Numberoffloorswithextremedamage: string (nullable = true)\n |-- DetectorsPresent: string (nullable = true)\n |-- DetectorType: string (nullable = true)\n |-- DetectorOperation: string (nullable = true)\n |-- DetectorEffectiveness: string (nullable = true)\n |-- DetectorFailureReason: string (nullable = true)\n |-- AutomaticExtinguishingSystemPresent: string (nullable = true)\n |-- AutomaticExtinguishingSytemType: string (nullable = true)\n |-- AutomaticExtinguishingSytemPerfomance: string (nullable = true)\n |-- AutomaticExtinguishingSytemFailureReason: string (nullable = true)\n |-- NumberofSprinklerHeadsOperating: string (nullable = true)\n |-- SupervisorDistrict: string (nullable = true)\n |-- AnalysisNeighborhood: string (nullable = true)\n |-- point: string (nullable = true)\n |-- NeighborhoodsOld: string (nullable = true)\n |-- ZipCodes: string (nullable = true)\n |-- FirePreventionDistricts: string (nullable = true)\n |-- PoliceDistricts: string (nullable = true)\n |-- SupervisorDistricts: string (nullable = true)\n |-- CivicCenterHarmReductionProjectBoundary: string (nullable = true)\n |-- 2017FixItZones: string (nullable = true)\n |-- HSOCZones: string (nullable = true)\n |-- CentralMarketTenderloinBoundary: string (nullable = true)\n |-- CentralMarketTenderloinBoundaryPolygonUpdated: string (nullable = true)\n |-- HSOCZonesasof20180605: string (nullable = true)\n |-- Neighborhoods: string (nullable = true)\n |-- SFFindNeighborhoods: string (nullable = true)\n |-- CurrentPoliceDistricts: string (nullable = true)\n |-- CurrentSupervisorDistricts: string (nullable = true)\n |-- AnalysisNeighborhoods: string (nullable = true)\n\n"
     ]
    }
   ],
   "source": [
    "df1.printSchema()"
   ]
  },
  {
   "cell_type": "code",
   "execution_count": 0,
   "metadata": {
    "application/vnd.databricks.v1+cell": {
     "cellMetadata": {
      "byteLimit": 2048000,
      "rowLimit": 10000
     },
     "inputWidgets": {},
     "nuid": "eb8e60c4-00d4-44fd-87f1-6b7f765de180",
     "showTitle": false,
     "title": ""
    }
   },
   "outputs": [],
   "source": [
    "output_path = 'dbfs:/FileStore/tables'\n",
    "df1.write.format(\"parquet\").mode(\"overwrite\").save(output_path)"
   ]
  }
 ],
 "metadata": {
  "application/vnd.databricks.v1+notebook": {
   "dashboards": [],
   "language": "python",
   "notebookMetadata": {
    "pythonIndentUnit": 4
   },
   "notebookName": "Pyspark_DF_ReadWrite",
   "widgets": {}
  }
 },
 "nbformat": 4,
 "nbformat_minor": 0
}
