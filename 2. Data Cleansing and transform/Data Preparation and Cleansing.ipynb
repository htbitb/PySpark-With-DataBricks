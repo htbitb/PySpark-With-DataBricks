{
 "cells": [
  {
   "cell_type": "code",
   "execution_count": 0,
   "metadata": {
    "application/vnd.databricks.v1+cell": {
     "cellMetadata": {
      "byteLimit": 2048000,
      "rowLimit": 10000
     },
     "inputWidgets": {},
     "nuid": "9b9b81f2-3cfd-4e1c-9c8f-df7295671165",
     "showTitle": false,
     "title": ""
    }
   },
   "outputs": [],
   "source": [
    "from pyspark.sql import SparkSession\n",
    "from pyspark.sql.types import StructType, StructField, StringType"
   ]
  },
  {
   "cell_type": "code",
   "execution_count": 0,
   "metadata": {
    "application/vnd.databricks.v1+cell": {
     "cellMetadata": {
      "byteLimit": 2048000,
      "rowLimit": 10000
     },
     "inputWidgets": {},
     "nuid": "3705693a-2ace-48d7-8db5-0bc7161cd4a6",
     "showTitle": false,
     "title": ""
    }
   },
   "outputs": [],
   "source": [
    "spark = (SparkSession.builder.appName(\"SalesAnalytics\").getOrCreate())"
   ]
  },
  {
   "cell_type": "markdown",
   "metadata": {
    "application/vnd.databricks.v1+cell": {
     "cellMetadata": {
      "byteLimit": 2048000,
      "rowLimit": 10000
     },
     "inputWidgets": {},
     "nuid": "83b43283-dc41-4cde-b6d9-df05834e1d22",
     "showTitle": false,
     "title": ""
    }
   },
   "source": [
    "## Data preparation"
   ]
  },
  {
   "cell_type": "code",
   "execution_count": 0,
   "metadata": {
    "application/vnd.databricks.v1+cell": {
     "cellMetadata": {
      "byteLimit": 2048000,
      "rowLimit": 10000
     },
     "inputWidgets": {},
     "nuid": "9d1bceb2-0188-4def-be50-8c6268783d2f",
     "showTitle": false,
     "title": ""
    }
   },
   "outputs": [],
   "source": [
    "schema = StructType([\n",
    "    StructField(\"Order ID\", StringType(), True),\n",
    "    StructField(\"Product\", StringType(), True),\n",
    "    StructField(\"Quantity Ordered\", StringType(), True),\n",
    "    StructField(\"Price Each\", StringType(), True),\n",
    "    StructField(\"Order Date\", StringType(), True),\n",
    "    StructField(\"Purchase Address\", StringType(), True),\n",
    "])"
   ]
  },
  {
   "cell_type": "code",
   "execution_count": 0,
   "metadata": {
    "application/vnd.databricks.v1+cell": {
     "cellMetadata": {
      "byteLimit": 2048000,
      "rowLimit": 10000
     },
     "inputWidgets": {},
     "nuid": "1d116143-dfb2-4db3-8583-83512ba733a9",
     "showTitle": false,
     "title": ""
    }
   },
   "outputs": [],
   "source": [
    "sales_data_path = \"dbfs:/FileStore/shared_uploads/htb29021996@gmail.com/salesdata/\"\n",
    "sales_raw_df = (spark.read.format(\"csv\")\n",
    "                .option(\"header\", True)\n",
    "                .schema(schema)\n",
    "                .load(sales_data_path)\n",
    "                )"
   ]
  },
  {
   "cell_type": "code",
   "execution_count": 0,
   "metadata": {
    "application/vnd.databricks.v1+cell": {
     "cellMetadata": {
      "byteLimit": 2048000,
      "rowLimit": 10000
     },
     "inputWidgets": {},
     "nuid": "d1168519-49fb-49ea-88e8-8a0439f3580e",
     "showTitle": false,
     "title": ""
    }
   },
   "outputs": [
    {
     "output_type": "stream",
     "name": "stdout",
     "output_type": "stream",
     "text": [
      "+--------+--------------------+----------------+----------+--------------+--------------------+\n|Order ID|             Product|Quantity Ordered|Price Each|    Order Date|    Purchase Address|\n+--------+--------------------+----------------+----------+--------------+--------------------+\n|  295665|  Macbook Pro Laptop|               1|      1700|12/30/19 00:01|136 Church St, Ne...|\n|  295666|  LG Washing Machine|               1|     600.0|12/29/19 07:03|562 2nd St, New Y...|\n|  295667|USB-C Charging Cable|               1|     11.95|12/12/19 18:21|277 Main St, New ...|\n|  295668|    27in FHD Monitor|               1|    149.99|12/22/19 15:13|410 6th St, San F...|\n|  295669|USB-C Charging Cable|               1|     11.95|12/18/19 12:38|43 Hill St, Atlan...|\n|  295670|AA Batteries (4-p...|               1|      3.84|12/31/19 22:58|200 Jefferson St,...|\n|  295671|USB-C Charging Cable|               1|     11.95|12/16/19 15:10|928 12th St, Port...|\n|  295672|USB-C Charging Cable|               2|     11.95|12/13/19 09:29|813 Hickory St, D...|\n|  295673|Bose SoundSport H...|               1|     99.99|12/15/19 23:26|718 Wilson St, Da...|\n|  295674|AAA Batteries (4-...|               4|      2.99|12/28/19 11:51|77 7th St, Dallas...|\n+--------+--------------------+----------------+----------+--------------+--------------------+\nonly showing top 10 rows\n\n"
     ]
    }
   ],
   "source": [
    "sales_raw_df.show(10)"
   ]
  },
  {
   "cell_type": "code",
   "execution_count": 0,
   "metadata": {
    "application/vnd.databricks.v1+cell": {
     "cellMetadata": {
      "byteLimit": 2048000,
      "rowLimit": 10000
     },
     "inputWidgets": {},
     "nuid": "dea1369e-c2f7-45cf-860a-f47c89a97a0f",
     "showTitle": false,
     "title": ""
    }
   },
   "outputs": [
    {
     "output_type": "stream",
     "name": "stdout",
     "output_type": "stream",
     "text": [
      "root\n |-- Order ID: string (nullable = true)\n |-- Product: string (nullable = true)\n |-- Quantity Ordered: string (nullable = true)\n |-- Price Each: string (nullable = true)\n |-- Order Date: string (nullable = true)\n |-- Purchase Address: string (nullable = true)\n\n"
     ]
    }
   ],
   "source": [
    "sales_raw_df.printSchema()"
   ]
  },
  {
   "cell_type": "markdown",
   "metadata": {
    "application/vnd.databricks.v1+cell": {
     "cellMetadata": {
      "byteLimit": 2048000,
      "rowLimit": 10000
     },
     "inputWidgets": {},
     "nuid": "75d809bb-7519-401f-85b6-2c659c2f955b",
     "showTitle": false,
     "title": ""
    }
   },
   "source": [
    "## Data Preparation and Cleansing"
   ]
  },
  {
   "cell_type": "markdown",
   "metadata": {
    "application/vnd.databricks.v1+cell": {
     "cellMetadata": {
      "byteLimit": 2048000,
      "rowLimit": 10000
     },
     "inputWidgets": {},
     "nuid": "bd6f94fd-a26a-408c-8553-df7a6b0d199a",
     "showTitle": false,
     "title": ""
    }
   },
   "source": [
    "### 1. Remove Null Rows and Bad Records"
   ]
  },
  {
   "cell_type": "code",
   "execution_count": 0,
   "metadata": {
    "application/vnd.databricks.v1+cell": {
     "cellMetadata": {
      "byteLimit": 2048000,
      "rowLimit": 10000
     },
     "inputWidgets": {},
     "nuid": "42401943-1745-42a1-8c3c-5c432e4630d2",
     "showTitle": false,
     "title": ""
    }
   },
   "outputs": [],
   "source": [
    "from pyspark.sql.functions import col"
   ]
  },
  {
   "cell_type": "code",
   "execution_count": 0,
   "metadata": {
    "application/vnd.databricks.v1+cell": {
     "cellMetadata": {
      "byteLimit": 2048000,
      "rowLimit": 10000
     },
     "inputWidgets": {},
     "nuid": "ac5d50b5-3408-4497-8366-5b9292bf8c7d",
     "showTitle": false,
     "title": ""
    }
   },
   "outputs": [
    {
     "output_type": "stream",
     "name": "stdout",
     "output_type": "stream",
     "text": [
      "+--------+-------+----------------+----------+----------+----------------+\n|Order ID|Product|Quantity Ordered|Price Each|Order Date|Purchase Address|\n+--------+-------+----------------+----------+----------+----------------+\n+--------+-------+----------------+----------+----------+----------------+\n\n"
     ]
    }
   ],
   "source": [
    "sales_raw_df.filter(col(\"Order ID\").isNull() == True).na.drop().show(10)"
   ]
  },
  {
   "cell_type": "code",
   "execution_count": 0,
   "metadata": {
    "application/vnd.databricks.v1+cell": {
     "cellMetadata": {
      "byteLimit": 2048000,
      "rowLimit": 10000
     },
     "inputWidgets": {},
     "nuid": "df3eeb0b-095a-4b2c-9e88-4cf9578c10e9",
     "showTitle": false,
     "title": ""
    }
   },
   "outputs": [
    {
     "output_type": "stream",
     "name": "stdout",
     "output_type": "stream",
     "text": [
      "+-------+------------------+------------+------------------+------------------+--------------+--------------------+\n|summary|          Order ID|     Product|  Quantity Ordered|        Price Each|    Order Date|    Purchase Address|\n+-------+------------------+------------+------------------+------------------+--------------+--------------------+\n|  count|            186305|      186305|            186305|            186305|        186305|              186305|\n|   mean| 230417.5693788653|        NULL|1.1243828986286637|184.39973476747707|          NULL|                NULL|\n| stddev|51512.737109995265|        NULL|0.4427926240286704| 332.7313298843439|          NULL|                NULL|\n|    min|            141234|20in Monitor|                 1|            109.99|01/01/19 03:07|1 11th St, Atlant...|\n|    max|          Order ID|      iPhone|  Quantity Ordered|        Price Each|    Order Date|    Purchase Address|\n+-------+------------------+------------+------------------+------------------+--------------+--------------------+\n\n"
     ]
    }
   ],
   "source": [
    "sales_raw_df.describe(\"Order ID\", \"Product\", \"Quantity Ordered\", \"Price Each\", \"Order Date\", \"Purchase Address\").show()"
   ]
  },
  {
   "cell_type": "code",
   "execution_count": 0,
   "metadata": {
    "application/vnd.databricks.v1+cell": {
     "cellMetadata": {
      "byteLimit": 2048000,
      "rowLimit": 10000
     },
     "inputWidgets": {},
     "nuid": "226103c6-4ddb-4d2e-9c19-2e014503555a",
     "showTitle": false,
     "title": ""
    }
   },
   "outputs": [
    {
     "output_type": "stream",
     "name": "stdout",
     "output_type": "stream",
     "text": [
      "+--------+-------+----------------+----------+----------+----------------+\n|Order ID|Product|Quantity Ordered|Price Each|Order Date|Purchase Address|\n+--------+-------+----------------+----------+----------+----------------+\n|Order ID|Product|Quantity Ordered|Price Each|Order Date|Purchase Address|\n|Order ID|Product|Quantity Ordered|Price Each|Order Date|Purchase Address|\n|Order ID|Product|Quantity Ordered|Price Each|Order Date|Purchase Address|\n|Order ID|Product|Quantity Ordered|Price Each|Order Date|Purchase Address|\n|Order ID|Product|Quantity Ordered|Price Each|Order Date|Purchase Address|\n|Order ID|Product|Quantity Ordered|Price Each|Order Date|Purchase Address|\n|Order ID|Product|Quantity Ordered|Price Each|Order Date|Purchase Address|\n|Order ID|Product|Quantity Ordered|Price Each|Order Date|Purchase Address|\n|Order ID|Product|Quantity Ordered|Price Each|Order Date|Purchase Address|\n|Order ID|Product|Quantity Ordered|Price Each|Order Date|Purchase Address|\n+--------+-------+----------------+----------+----------+----------------+\nonly showing top 10 rows\n\n"
     ]
    }
   ],
   "source": [
    "sales_raw_df.filter(col(\"Order ID\") == \"Order ID\").show(10)"
   ]
  },
  {
   "cell_type": "code",
   "execution_count": 0,
   "metadata": {
    "application/vnd.databricks.v1+cell": {
     "cellMetadata": {
      "byteLimit": 2048000,
      "rowLimit": 10000
     },
     "inputWidgets": {},
     "nuid": "3dbd8ac5-2faf-4144-b590-05e1cccebff6",
     "showTitle": false,
     "title": ""
    }
   },
   "outputs": [],
   "source": [
    "sales_temp_df = sales_raw_df.filter(col(\"Order ID\") != \"Order ID\")"
   ]
  },
  {
   "cell_type": "code",
   "execution_count": 0,
   "metadata": {
    "application/vnd.databricks.v1+cell": {
     "cellMetadata": {
      "byteLimit": 2048000,
      "rowLimit": 10000
     },
     "inputWidgets": {},
     "nuid": "6b89e6bb-8d95-40f3-8e8b-16e162bf45cd",
     "showTitle": false,
     "title": ""
    }
   },
   "outputs": [
    {
     "output_type": "stream",
     "name": "stdout",
     "output_type": "stream",
     "text": [
      "+-------+------------------+------------+------------------+------------------+--------------+--------------------+\n|summary|          Order ID|     Product|  Quantity Ordered|        Price Each|    Order Date|    Purchase Address|\n+-------+------------------+------------+------------------+------------------+--------------+--------------------+\n|  count|            185950|      185950|            185950|            185950|        185950|              185950|\n|   mean| 230417.5693788653|        NULL|1.1243828986286637|184.39973476747707|          NULL|                NULL|\n| stddev|51512.737109995265|        NULL|0.4427926240286704| 332.7313298843439|          NULL|                NULL|\n|    min|            141234|20in Monitor|                 1|            109.99|01/01/19 03:07|1 11th St, Atlant...|\n|    max|            319670|      iPhone|                 9|            999.99|12/31/19 23:53|999 Wilson St, Sa...|\n+-------+------------------+------------+------------------+------------------+--------------+--------------------+\n\n"
     ]
    }
   ],
   "source": [
    "sales_temp_df.describe(\"Order ID\", \"Product\", \"Quantity Ordered\", \"Price Each\", \"Order Date\", \"Purchase Address\").show()"
   ]
  },
  {
   "cell_type": "markdown",
   "metadata": {
    "application/vnd.databricks.v1+cell": {
     "cellMetadata": {
      "byteLimit": 2048000,
      "rowLimit": 10000
     },
     "inputWidgets": {},
     "nuid": "524b2247-9ceb-4922-94e1-8a3ba7799c95",
     "showTitle": false,
     "title": ""
    }
   },
   "source": [
    "### 2. Extract the city and State frrom Purchase Address"
   ]
  },
  {
   "cell_type": "code",
   "execution_count": 0,
   "metadata": {
    "application/vnd.databricks.v1+cell": {
     "cellMetadata": {
      "byteLimit": 2048000,
      "rowLimit": 10000
     },
     "inputWidgets": {},
     "nuid": "8c670858-ac37-4b92-8959-40fc05a74e7f",
     "showTitle": false,
     "title": ""
    }
   },
   "outputs": [],
   "source": [
    "from pyspark.sql.functions import split"
   ]
  },
  {
   "cell_type": "code",
   "execution_count": 0,
   "metadata": {
    "application/vnd.databricks.v1+cell": {
     "cellMetadata": {
      "byteLimit": 2048000,
      "rowLimit": 10000
     },
     "inputWidgets": {},
     "nuid": "46134665-2eec-4cab-91dc-feb5a03ce106",
     "showTitle": false,
     "title": ""
    }
   },
   "outputs": [
    {
     "output_type": "stream",
     "name": "stdout",
     "output_type": "stream",
     "text": [
      "+-----------------------------------------+\n|Purchase Address                         |\n+-----------------------------------------+\n|136 Church St, New York City, NY 10001   |\n|562 2nd St, New York City, NY 10001      |\n|277 Main St, New York City, NY 10001     |\n|410 6th St, San Francisco, CA 94016      |\n|43 Hill St, Atlanta, GA 30301            |\n|200 Jefferson St, New York City, NY 10001|\n|928 12th St, Portland, OR 97035          |\n|813 Hickory St, Dallas, TX 75001         |\n|718 Wilson St, Dallas, TX 75001          |\n|77 7th St, Dallas, TX 75001              |\n+-----------------------------------------+\nonly showing top 10 rows\n\n"
     ]
    }
   ],
   "source": [
    "sales_temp_df.select(\"Purchase Address\").show(10, False)"
   ]
  },
  {
   "cell_type": "code",
   "execution_count": 0,
   "metadata": {
    "application/vnd.databricks.v1+cell": {
     "cellMetadata": {
      "byteLimit": 2048000,
      "rowLimit": 10000
     },
     "inputWidgets": {},
     "nuid": "92a1b1d3-a055-4c3f-bcd7-0f347bdfdbdd",
     "showTitle": false,
     "title": ""
    }
   },
   "outputs": [
    {
     "output_type": "stream",
     "name": "stdout",
     "output_type": "stream",
     "text": [
      "+-----------------------------------------+---------------------------------------------+\n|Purchase Address                         |City                                         |\n+-----------------------------------------+---------------------------------------------+\n|136 Church St, New York City, NY 10001   |[136 Church St,  New York City,  NY 10001]   |\n|562 2nd St, New York City, NY 10001      |[562 2nd St,  New York City,  NY 10001]      |\n|277 Main St, New York City, NY 10001     |[277 Main St,  New York City,  NY 10001]     |\n|410 6th St, San Francisco, CA 94016      |[410 6th St,  San Francisco,  CA 94016]      |\n|43 Hill St, Atlanta, GA 30301            |[43 Hill St,  Atlanta,  GA 30301]            |\n|200 Jefferson St, New York City, NY 10001|[200 Jefferson St,  New York City,  NY 10001]|\n|928 12th St, Portland, OR 97035          |[928 12th St,  Portland,  OR 97035]          |\n|813 Hickory St, Dallas, TX 75001         |[813 Hickory St,  Dallas,  TX 75001]         |\n|718 Wilson St, Dallas, TX 75001          |[718 Wilson St,  Dallas,  TX 75001]          |\n|77 7th St, Dallas, TX 75001              |[77 7th St,  Dallas,  TX 75001]              |\n+-----------------------------------------+---------------------------------------------+\nonly showing top 10 rows\n\n"
     ]
    }
   ],
   "source": [
    "sales_temp_df.select(\"Purchase Address\", split(col(\"Purchase Address\"), \",\").alias(\"City\")).show(10, False)"
   ]
  },
  {
   "cell_type": "code",
   "execution_count": 0,
   "metadata": {
    "application/vnd.databricks.v1+cell": {
     "cellMetadata": {
      "byteLimit": 2048000,
      "rowLimit": 10000
     },
     "inputWidgets": {},
     "nuid": "f6368b3b-e172-4e50-ae6f-cd1c2ab1de33",
     "showTitle": false,
     "title": ""
    }
   },
   "outputs": [
    {
     "output_type": "stream",
     "name": "stdout",
     "output_type": "stream",
     "text": [
      "+-----------------------------------------+--------------+\n|Purchase Address                         |City          |\n+-----------------------------------------+--------------+\n|136 Church St, New York City, NY 10001   | New York City|\n|562 2nd St, New York City, NY 10001      | New York City|\n|277 Main St, New York City, NY 10001     | New York City|\n|410 6th St, San Francisco, CA 94016      | San Francisco|\n|43 Hill St, Atlanta, GA 30301            | Atlanta      |\n|200 Jefferson St, New York City, NY 10001| New York City|\n|928 12th St, Portland, OR 97035          | Portland     |\n|813 Hickory St, Dallas, TX 75001         | Dallas       |\n|718 Wilson St, Dallas, TX 75001          | Dallas       |\n|77 7th St, Dallas, TX 75001              | Dallas       |\n+-----------------------------------------+--------------+\nonly showing top 10 rows\n\n"
     ]
    }
   ],
   "source": [
    "sales_temp_df.select(\"Purchase Address\", split(col(\"Purchase Address\"), \",\").getItem(1).alias(\"City\")).show(10, False)"
   ]
  },
  {
   "cell_type": "code",
   "execution_count": 0,
   "metadata": {
    "application/vnd.databricks.v1+cell": {
     "cellMetadata": {
      "byteLimit": 2048000,
      "rowLimit": 10000
     },
     "inputWidgets": {},
     "nuid": "7a9776f3-3f70-401d-8e24-e50c6206e70e",
     "showTitle": false,
     "title": ""
    }
   },
   "outputs": [
    {
     "output_type": "stream",
     "name": "stdout",
     "output_type": "stream",
     "text": [
      "+-----------------------------------------+---------+\n|Purchase Address                         |City Code|\n+-----------------------------------------+---------+\n|136 Church St, New York City, NY 10001   | NY 10001|\n|562 2nd St, New York City, NY 10001      | NY 10001|\n|277 Main St, New York City, NY 10001     | NY 10001|\n|410 6th St, San Francisco, CA 94016      | CA 94016|\n|43 Hill St, Atlanta, GA 30301            | GA 30301|\n|200 Jefferson St, New York City, NY 10001| NY 10001|\n|928 12th St, Portland, OR 97035          | OR 97035|\n|813 Hickory St, Dallas, TX 75001         | TX 75001|\n|718 Wilson St, Dallas, TX 75001          | TX 75001|\n|77 7th St, Dallas, TX 75001              | TX 75001|\n+-----------------------------------------+---------+\nonly showing top 10 rows\n\n"
     ]
    }
   ],
   "source": [
    "sales_temp_df.select(\"Purchase Address\", split(col(\"Purchase Address\"), \",\").getItem(2).alias(\"City Code\")).show(10, False)"
   ]
  },
  {
   "cell_type": "code",
   "execution_count": 0,
   "metadata": {
    "application/vnd.databricks.v1+cell": {
     "cellMetadata": {
      "byteLimit": 2048000,
      "rowLimit": 10000
     },
     "inputWidgets": {},
     "nuid": "a289bc83-1994-477a-8f59-a7c923bb68af",
     "showTitle": false,
     "title": ""
    }
   },
   "outputs": [],
   "source": [
    "sales_temp_df = (sales_temp_df.withColumn(\"City\", split(col(\"Purchase Address\"), \",\").getItem(1))\n",
    "                              .withColumn(\"State\", split(split(col(\"Purchase Address\"), \",\").getItem(2), ' ').getItem(1)))"
   ]
  },
  {
   "cell_type": "code",
   "execution_count": 0,
   "metadata": {
    "application/vnd.databricks.v1+cell": {
     "cellMetadata": {
      "byteLimit": 2048000,
      "rowLimit": 10000
     },
     "inputWidgets": {},
     "nuid": "31fcd68f-393d-4747-aaf9-c85384fb3c31",
     "showTitle": false,
     "title": ""
    }
   },
   "outputs": [
    {
     "output_type": "stream",
     "name": "stdout",
     "output_type": "stream",
     "text": [
      "+--------+--------------------------+----------------+----------+--------------+-----------------------------------------+--------------+-----+\n|Order ID|Product                   |Quantity Ordered|Price Each|Order Date    |Purchase Address                         |City          |State|\n+--------+--------------------------+----------------+----------+--------------+-----------------------------------------+--------------+-----+\n|295665  |Macbook Pro Laptop        |1               |1700      |12/30/19 00:01|136 Church St, New York City, NY 10001   | New York City|NY   |\n|295666  |LG Washing Machine        |1               |600.0     |12/29/19 07:03|562 2nd St, New York City, NY 10001      | New York City|NY   |\n|295667  |USB-C Charging Cable      |1               |11.95     |12/12/19 18:21|277 Main St, New York City, NY 10001     | New York City|NY   |\n|295668  |27in FHD Monitor          |1               |149.99    |12/22/19 15:13|410 6th St, San Francisco, CA 94016      | San Francisco|CA   |\n|295669  |USB-C Charging Cable      |1               |11.95     |12/18/19 12:38|43 Hill St, Atlanta, GA 30301            | Atlanta      |GA   |\n|295670  |AA Batteries (4-pack)     |1               |3.84      |12/31/19 22:58|200 Jefferson St, New York City, NY 10001| New York City|NY   |\n|295671  |USB-C Charging Cable      |1               |11.95     |12/16/19 15:10|928 12th St, Portland, OR 97035          | Portland     |OR   |\n|295672  |USB-C Charging Cable      |2               |11.95     |12/13/19 09:29|813 Hickory St, Dallas, TX 75001         | Dallas       |TX   |\n|295673  |Bose SoundSport Headphones|1               |99.99     |12/15/19 23:26|718 Wilson St, Dallas, TX 75001          | Dallas       |TX   |\n|295674  |AAA Batteries (4-pack)    |4               |2.99      |12/28/19 11:51|77 7th St, Dallas, TX 75001              | Dallas       |TX   |\n+--------+--------------------------+----------------+----------+--------------+-----------------------------------------+--------------+-----+\nonly showing top 10 rows\n\n"
     ]
    }
   ],
   "source": [
    "sales_temp_df.show(10, False)"
   ]
  },
  {
   "cell_type": "markdown",
   "metadata": {
    "application/vnd.databricks.v1+cell": {
     "cellMetadata": {},
     "inputWidgets": {},
     "nuid": "ddadfc56-7cf2-45c0-8006-7fb1eb83b1f9",
     "showTitle": false,
     "title": ""
    }
   },
   "source": [
    "### 3. Rename and Change DataTypes"
   ]
  },
  {
   "cell_type": "code",
   "execution_count": 0,
   "metadata": {
    "application/vnd.databricks.v1+cell": {
     "cellMetadata": {
      "byteLimit": 2048000,
      "rowLimit": 10000
     },
     "inputWidgets": {},
     "nuid": "a6682025-c0a4-4df4-b221-e1112a766e16",
     "showTitle": false,
     "title": ""
    }
   },
   "outputs": [],
   "source": [
    "from pyspark.sql.functions import to_timestamp, year, month\n",
    "from pyspark.sql.types import IntegerType, FloatType"
   ]
  },
  {
   "cell_type": "code",
   "execution_count": 0,
   "metadata": {
    "application/vnd.databricks.v1+cell": {
     "cellMetadata": {
      "byteLimit": 2048000,
      "rowLimit": 10000
     },
     "inputWidgets": {},
     "nuid": "67afe618-5433-4da4-9f4d-1d143813b348",
     "showTitle": false,
     "title": ""
    }
   },
   "outputs": [],
   "source": [
    "sales_temp_df = (sales_temp_df.withColumn(\"OrderID\", col(\"Order ID\").cast(IntegerType()))\n",
    "                                .withColumn(\"Quantity\", col(\"Quantity Ordered\").cast(IntegerType()))\n",
    "                                .withColumn(\"Price\", col(\"Price Each\").cast(FloatType()))\n",
    "                                .withColumn(\"OrderDate\", to_timestamp(col(\"Order Date\"),\"MM/dd/yy HH:mm\"))\n",
    "                                .withColumnRenamed(\"Purchase Address\", \"StoreAddress\")\n",
    "                                .drop(\"Order ID\")\n",
    "                                .drop(\"Quantity Ordered\")\n",
    "                                .drop(\"Price Each\")\n",
    "                                .drop(\"Order Date\"))"
   ]
  },
  {
   "cell_type": "code",
   "execution_count": 0,
   "metadata": {
    "application/vnd.databricks.v1+cell": {
     "cellMetadata": {
      "byteLimit": 2048000,
      "rowLimit": 10000
     },
     "inputWidgets": {},
     "nuid": "3388d038-8100-4b4b-9be4-6ce994cb3cdb",
     "showTitle": false,
     "title": ""
    }
   },
   "outputs": [
    {
     "output_type": "stream",
     "name": "stdout",
     "output_type": "stream",
     "text": [
      "+--------------------------+-----------------------------------------+--------------+-----+-------+--------+------+-------------------+\n|Product                   |StoreAddress                             |City          |State|OrderID|Quantity|Price |OrderDate          |\n+--------------------------+-----------------------------------------+--------------+-----+-------+--------+------+-------------------+\n|Macbook Pro Laptop        |136 Church St, New York City, NY 10001   | New York City|NY   |295665 |1       |1700.0|2019-12-30 00:01:00|\n|LG Washing Machine        |562 2nd St, New York City, NY 10001      | New York City|NY   |295666 |1       |600.0 |2019-12-29 07:03:00|\n|USB-C Charging Cable      |277 Main St, New York City, NY 10001     | New York City|NY   |295667 |1       |11.95 |2019-12-12 18:21:00|\n|27in FHD Monitor          |410 6th St, San Francisco, CA 94016      | San Francisco|CA   |295668 |1       |149.99|2019-12-22 15:13:00|\n|USB-C Charging Cable      |43 Hill St, Atlanta, GA 30301            | Atlanta      |GA   |295669 |1       |11.95 |2019-12-18 12:38:00|\n|AA Batteries (4-pack)     |200 Jefferson St, New York City, NY 10001| New York City|NY   |295670 |1       |3.84  |2019-12-31 22:58:00|\n|USB-C Charging Cable      |928 12th St, Portland, OR 97035          | Portland     |OR   |295671 |1       |11.95 |2019-12-16 15:10:00|\n|USB-C Charging Cable      |813 Hickory St, Dallas, TX 75001         | Dallas       |TX   |295672 |2       |11.95 |2019-12-13 09:29:00|\n|Bose SoundSport Headphones|718 Wilson St, Dallas, TX 75001          | Dallas       |TX   |295673 |1       |99.99 |2019-12-15 23:26:00|\n|AAA Batteries (4-pack)    |77 7th St, Dallas, TX 75001              | Dallas       |TX   |295674 |4       |2.99  |2019-12-28 11:51:00|\n+--------------------------+-----------------------------------------+--------------+-----+-------+--------+------+-------------------+\nonly showing top 10 rows\n\n"
     ]
    }
   ],
   "source": [
    "sales_temp_df.show(10, False)"
   ]
  },
  {
   "cell_type": "markdown",
   "metadata": {
    "application/vnd.databricks.v1+cell": {
     "cellMetadata": {},
     "inputWidgets": {},
     "nuid": "b37e6fee-49e5-4ca8-bd71-681baf8f3d68",
     "showTitle": false,
     "title": ""
    }
   },
   "source": [
    "### 4. Add New Column: Month and Year"
   ]
  },
  {
   "cell_type": "code",
   "execution_count": 0,
   "metadata": {
    "application/vnd.databricks.v1+cell": {
     "cellMetadata": {
      "byteLimit": 2048000,
      "rowLimit": 10000
     },
     "inputWidgets": {},
     "nuid": "a2baf887-c88b-4923-ba8e-098cabf0c93b",
     "showTitle": false,
     "title": ""
    }
   },
   "outputs": [],
   "source": [
    "sales_temp_df = (sales_temp_df.withColumn(\"ReportedYear\", year(col(\"OrderDate\")))\n",
    "                                .withColumn(\"Month\", month(col(\"OrderDate\"))))"
   ]
  },
  {
   "cell_type": "code",
   "execution_count": 0,
   "metadata": {
    "application/vnd.databricks.v1+cell": {
     "cellMetadata": {
      "byteLimit": 2048000,
      "rowLimit": 10000
     },
     "inputWidgets": {},
     "nuid": "2018824a-d0ea-4828-9896-dfb73da0d2e7",
     "showTitle": false,
     "title": ""
    }
   },
   "outputs": [
    {
     "output_type": "stream",
     "name": "stdout",
     "output_type": "stream",
     "text": [
      "+--------------------------+-----------------------------------------+--------------+-----+-------+--------+------+-------------------+------------+-----+\n|Product                   |StoreAddress                             |City          |State|OrderID|Quantity|Price |OrderDate          |ReportedYear|Month|\n+--------------------------+-----------------------------------------+--------------+-----+-------+--------+------+-------------------+------------+-----+\n|Macbook Pro Laptop        |136 Church St, New York City, NY 10001   | New York City|NY   |295665 |1       |1700.0|2019-12-30 00:01:00|2019        |12   |\n|LG Washing Machine        |562 2nd St, New York City, NY 10001      | New York City|NY   |295666 |1       |600.0 |2019-12-29 07:03:00|2019        |12   |\n|USB-C Charging Cable      |277 Main St, New York City, NY 10001     | New York City|NY   |295667 |1       |11.95 |2019-12-12 18:21:00|2019        |12   |\n|27in FHD Monitor          |410 6th St, San Francisco, CA 94016      | San Francisco|CA   |295668 |1       |149.99|2019-12-22 15:13:00|2019        |12   |\n|USB-C Charging Cable      |43 Hill St, Atlanta, GA 30301            | Atlanta      |GA   |295669 |1       |11.95 |2019-12-18 12:38:00|2019        |12   |\n|AA Batteries (4-pack)     |200 Jefferson St, New York City, NY 10001| New York City|NY   |295670 |1       |3.84  |2019-12-31 22:58:00|2019        |12   |\n|USB-C Charging Cable      |928 12th St, Portland, OR 97035          | Portland     |OR   |295671 |1       |11.95 |2019-12-16 15:10:00|2019        |12   |\n|USB-C Charging Cable      |813 Hickory St, Dallas, TX 75001         | Dallas       |TX   |295672 |2       |11.95 |2019-12-13 09:29:00|2019        |12   |\n|Bose SoundSport Headphones|718 Wilson St, Dallas, TX 75001          | Dallas       |TX   |295673 |1       |99.99 |2019-12-15 23:26:00|2019        |12   |\n|AAA Batteries (4-pack)    |77 7th St, Dallas, TX 75001              | Dallas       |TX   |295674 |4       |2.99  |2019-12-28 11:51:00|2019        |12   |\n+--------------------------+-----------------------------------------+--------------+-----+-------+--------+------+-------------------+------------+-----+\nonly showing top 10 rows\n\n"
     ]
    }
   ],
   "source": [
    "sales_temp_df.show(10, False)"
   ]
  },
  {
   "cell_type": "markdown",
   "metadata": {
    "application/vnd.databricks.v1+cell": {
     "cellMetadata": {},
     "inputWidgets": {},
     "nuid": "c7eefd69-177a-4e69-ab6e-9a1588314ac3",
     "showTitle": false,
     "title": ""
    }
   },
   "source": [
    "### 5. Write Final DataFrame to Parquet"
   ]
  },
  {
   "cell_type": "code",
   "execution_count": 0,
   "metadata": {
    "application/vnd.databricks.v1+cell": {
     "cellMetadata": {
      "byteLimit": 2048000,
      "rowLimit": 10000
     },
     "inputWidgets": {},
     "nuid": "af720712-ee61-48c5-9bf8-1872bad4121f",
     "showTitle": false,
     "title": ""
    }
   },
   "outputs": [],
   "source": [
    "sales_final_df = sales_temp_df.select(\"OrderID\", \"Product\", \"Quantity\", \"Price\", \"OrderDate\", \"StoreAddress\", \"City\", \"ReportedYear\", \"Month\")"
   ]
  },
  {
   "cell_type": "code",
   "execution_count": 0,
   "metadata": {
    "application/vnd.databricks.v1+cell": {
     "cellMetadata": {
      "byteLimit": 2048000,
      "rowLimit": 10000
     },
     "inputWidgets": {},
     "nuid": "c6084ab8-ed39-4ab8-a023-bf31f0b69813",
     "showTitle": false,
     "title": ""
    }
   },
   "outputs": [
    {
     "output_type": "stream",
     "name": "stdout",
     "output_type": "stream",
     "text": [
      "+-------+--------------------------+--------+------+-------------------+-----------------------------------------+--------------+------------+-----+\n|OrderID|Product                   |Quantity|Price |OrderDate          |StoreAddress                             |City          |ReportedYear|Month|\n+-------+--------------------------+--------+------+-------------------+-----------------------------------------+--------------+------------+-----+\n|295665 |Macbook Pro Laptop        |1       |1700.0|2019-12-30 00:01:00|136 Church St, New York City, NY 10001   | New York City|2019        |12   |\n|295666 |LG Washing Machine        |1       |600.0 |2019-12-29 07:03:00|562 2nd St, New York City, NY 10001      | New York City|2019        |12   |\n|295667 |USB-C Charging Cable      |1       |11.95 |2019-12-12 18:21:00|277 Main St, New York City, NY 10001     | New York City|2019        |12   |\n|295668 |27in FHD Monitor          |1       |149.99|2019-12-22 15:13:00|410 6th St, San Francisco, CA 94016      | San Francisco|2019        |12   |\n|295669 |USB-C Charging Cable      |1       |11.95 |2019-12-18 12:38:00|43 Hill St, Atlanta, GA 30301            | Atlanta      |2019        |12   |\n|295670 |AA Batteries (4-pack)     |1       |3.84  |2019-12-31 22:58:00|200 Jefferson St, New York City, NY 10001| New York City|2019        |12   |\n|295671 |USB-C Charging Cable      |1       |11.95 |2019-12-16 15:10:00|928 12th St, Portland, OR 97035          | Portland     |2019        |12   |\n|295672 |USB-C Charging Cable      |2       |11.95 |2019-12-13 09:29:00|813 Hickory St, Dallas, TX 75001         | Dallas       |2019        |12   |\n|295673 |Bose SoundSport Headphones|1       |99.99 |2019-12-15 23:26:00|718 Wilson St, Dallas, TX 75001          | Dallas       |2019        |12   |\n|295674 |AAA Batteries (4-pack)    |4       |2.99  |2019-12-28 11:51:00|77 7th St, Dallas, TX 75001              | Dallas       |2019        |12   |\n+-------+--------------------------+--------+------+-------------------+-----------------------------------------+--------------+------------+-----+\nonly showing top 10 rows\n\n"
     ]
    }
   ],
   "source": [
    "sales_final_df.show(10, False)"
   ]
  },
  {
   "cell_type": "code",
   "execution_count": 0,
   "metadata": {
    "application/vnd.databricks.v1+cell": {
     "cellMetadata": {
      "byteLimit": 2048000,
      "rowLimit": 10000
     },
     "inputWidgets": {},
     "nuid": "be1e42cb-07de-45cc-bcb8-66153f466ead",
     "showTitle": false,
     "title": ""
    }
   },
   "outputs": [],
   "source": [
    "output_path = \"dbfs:/FileStore/shared_uploads/htb29021996@gmail.com/salesdata/ParquetFile/\"\n",
    "sales_final_df.write.mode(\"overwrite\").partitionBy(\"ReportedYear\", \"Month\").parquet(output_path)"
   ]
  },
  {
   "cell_type": "code",
   "execution_count": 0,
   "metadata": {
    "application/vnd.databricks.v1+cell": {
     "cellMetadata": {},
     "inputWidgets": {},
     "nuid": "1e82c40d-838e-4aee-a812-bf10741589f3",
     "showTitle": false,
     "title": ""
    }
   },
   "outputs": [],
   "source": []
  }
 ],
 "metadata": {
  "application/vnd.databricks.v1+notebook": {
   "dashboards": [],
   "language": "python",
   "notebookMetadata": {
    "pythonIndentUnit": 4
   },
   "notebookName": "Data Preparation and Cleansing",
   "widgets": {}
  }
 },
 "nbformat": 4,
 "nbformat_minor": 0
}
