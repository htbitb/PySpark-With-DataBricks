{
 "cells": [
  {
   "cell_type": "code",
   "execution_count": 0,
   "metadata": {
    "application/vnd.databricks.v1+cell": {
     "cellMetadata": {
      "byteLimit": 2048000,
      "rowLimit": 10000
     },
     "inputWidgets": {},
     "nuid": "9b9b81f2-3cfd-4e1c-9c8f-df7295671165",
     "showTitle": false,
     "title": ""
    }
   },
   "outputs": [],
   "source": [
    "from pyspark.sql import SparkSession\n",
    "from pyspark.sql.functions import col, expr"
   ]
  },
  {
   "cell_type": "code",
   "execution_count": 0,
   "metadata": {
    "application/vnd.databricks.v1+cell": {
     "cellMetadata": {
      "byteLimit": 2048000,
      "rowLimit": 10000
     },
     "inputWidgets": {},
     "nuid": "3705693a-2ace-48d7-8db5-0bc7161cd4a6",
     "showTitle": false,
     "title": ""
    }
   },
   "outputs": [],
   "source": [
    "spark = (SparkSession.builder.appName(\"SalesUnderlying\").getOrCreate())"
   ]
  },
  {
   "cell_type": "markdown",
   "metadata": {
    "application/vnd.databricks.v1+cell": {
     "cellMetadata": {},
     "inputWidgets": {},
     "nuid": "75d809bb-7519-401f-85b6-2c659c2f955b",
     "showTitle": false,
     "title": ""
    }
   },
   "source": [
    "### Read 2019 Data from Parquet Files Directory"
   ]
  },
  {
   "cell_type": "code",
   "execution_count": 0,
   "metadata": {
    "application/vnd.databricks.v1+cell": {
     "cellMetadata": {
      "byteLimit": 2048000,
      "rowLimit": 10000
     },
     "inputWidgets": {},
     "nuid": "ac754932-aaf6-42af-92d6-3a213ce0dd2e",
     "showTitle": false,
     "title": ""
    }
   },
   "outputs": [],
   "source": [
    "soure_data_path = \"dbfs:/FileStore/shared_uploads/htb29021996@gmail.com/salesdata/ParquetFile/ReportedYear=2019\"\n",
    "sales2019_df = spark.read.parquet(soure_data_path)"
   ]
  },
  {
   "cell_type": "code",
   "execution_count": 0,
   "metadata": {
    "application/vnd.databricks.v1+cell": {
     "cellMetadata": {
      "byteLimit": 2048000,
      "rowLimit": 10000
     },
     "inputWidgets": {},
     "nuid": "3bdcab1d-c437-4cbe-8ede-988c3480eb78",
     "showTitle": false,
     "title": ""
    }
   },
   "outputs": [
    {
     "output_type": "stream",
     "name": "stdout",
     "output_type": "stream",
     "text": [
      "+-------+--------------------------+--------+------+-------------------+-----------------------------------------+--------------+-----+-----+\n|OrderID|Product                   |Quantity|Price |OrderDate          |StoreAddress                             |City          |State|Month|\n+-------+--------------------------+--------+------+-------------------+-----------------------------------------+--------------+-----+-----+\n|295665 |Macbook Pro Laptop        |1       |1700.0|2019-12-30 00:01:00|136 Church St, New York City, NY 10001   | New York City|NY   |12   |\n|295666 |LG Washing Machine        |1       |600.0 |2019-12-29 07:03:00|562 2nd St, New York City, NY 10001      | New York City|NY   |12   |\n|295667 |USB-C Charging Cable      |1       |11.95 |2019-12-12 18:21:00|277 Main St, New York City, NY 10001     | New York City|NY   |12   |\n|295668 |27in FHD Monitor          |1       |149.99|2019-12-22 15:13:00|410 6th St, San Francisco, CA 94016      | San Francisco|CA   |12   |\n|295669 |USB-C Charging Cable      |1       |11.95 |2019-12-18 12:38:00|43 Hill St, Atlanta, GA 30301            | Atlanta      |GA   |12   |\n|295670 |AA Batteries (4-pack)     |1       |3.84  |2019-12-31 22:58:00|200 Jefferson St, New York City, NY 10001| New York City|NY   |12   |\n|295671 |USB-C Charging Cable      |1       |11.95 |2019-12-16 15:10:00|928 12th St, Portland, OR 97035          | Portland     |OR   |12   |\n|295672 |USB-C Charging Cable      |2       |11.95 |2019-12-13 09:29:00|813 Hickory St, Dallas, TX 75001         | Dallas       |TX   |12   |\n|295673 |Bose SoundSport Headphones|1       |99.99 |2019-12-15 23:26:00|718 Wilson St, Dallas, TX 75001          | Dallas       |TX   |12   |\n|295674 |AAA Batteries (4-pack)    |4       |2.99  |2019-12-28 11:51:00|77 7th St, Dallas, TX 75001              | Dallas       |TX   |12   |\n+-------+--------------------------+--------+------+-------------------+-----------------------------------------+--------------+-----+-----+\nonly showing top 10 rows\n\n"
     ]
    }
   ],
   "source": [
    "sales2019_df.show(10, False)"
   ]
  },
  {
   "cell_type": "markdown",
   "metadata": {
    "application/vnd.databricks.v1+cell": {
     "cellMetadata": {},
     "inputWidgets": {},
     "nuid": "492a258d-f53d-45bf-9e88-4977571b4815",
     "showTitle": false,
     "title": ""
    }
   },
   "source": [
    "### Q1: What was the best month in Sales?"
   ]
  },
  {
   "cell_type": "code",
   "execution_count": 0,
   "metadata": {
    "application/vnd.databricks.v1+cell": {
     "cellMetadata": {
      "byteLimit": 2048000,
      "rowLimit": 10000
     },
     "inputWidgets": {},
     "nuid": "7903dcfe-bdd9-428a-b9c3-f8e6593e5a52",
     "showTitle": false,
     "title": ""
    }
   },
   "outputs": [],
   "source": [
    "from pyspark.sql.functions import round, sum\n",
    "import pandas as pd \n",
    "import matplotlib.pyplot as plt \n",
    "import seaborn as sns"
   ]
  },
  {
   "cell_type": "code",
   "execution_count": 0,
   "metadata": {
    "application/vnd.databricks.v1+cell": {
     "cellMetadata": {
      "byteLimit": 2048000,
      "rowLimit": 10000
     },
     "inputWidgets": {},
     "nuid": "5e620273-f799-4902-a856-56f3d0df92a9",
     "showTitle": false,
     "title": ""
    }
   },
   "outputs": [],
   "source": [
    "sales_q1_df = (sales2019_df.select(\n",
    "    col(\"OrderID\"),\n",
    "    col(\"Month\"),\n",
    "    col(\"Price\"),\n",
    "    col(\"Quantity\"),\n",
    "    expr(\"Price * Quantity\").alias(\"Sales\")\n",
    "))"
   ]
  },
  {
   "cell_type": "code",
   "execution_count": 0,
   "metadata": {
    "application/vnd.databricks.v1+cell": {
     "cellMetadata": {
      "byteLimit": 2048000,
      "rowLimit": 10000
     },
     "inputWidgets": {},
     "nuid": "79e89209-1d20-4c43-8d97-422ba20d7cb2",
     "showTitle": false,
     "title": ""
    }
   },
   "outputs": [
    {
     "output_type": "stream",
     "name": "stdout",
     "output_type": "stream",
     "text": [
      "+-------+-----+------+--------+------+\n|OrderID|Month|Price |Quantity|Sales |\n+-------+-----+------+--------+------+\n|295665 |12   |1700.0|1       |1700.0|\n|295666 |12   |600.0 |1       |600.0 |\n|295667 |12   |11.95 |1       |11.95 |\n|295668 |12   |149.99|1       |149.99|\n|295669 |12   |11.95 |1       |11.95 |\n|295670 |12   |3.84  |1       |3.84  |\n|295671 |12   |11.95 |1       |11.95 |\n|295672 |12   |11.95 |2       |23.9  |\n|295673 |12   |99.99 |1       |99.99 |\n|295674 |12   |2.99  |4       |11.96 |\n+-------+-----+------+--------+------+\nonly showing top 10 rows\n\n"
     ]
    }
   ],
   "source": [
    "sales_q1_df.show(10, False)"
   ]
  },
  {
   "cell_type": "code",
   "execution_count": 0,
   "metadata": {
    "application/vnd.databricks.v1+cell": {
     "cellMetadata": {
      "byteLimit": 2048000,
      "rowLimit": 10000
     },
     "inputWidgets": {},
     "nuid": "270c9766-d147-4496-a644-a3a95d5af293",
     "showTitle": false,
     "title": ""
    }
   },
   "outputs": [],
   "source": [
    "sales_q1_df = (sales_q1_df\n",
    "               .groupby(\"Month\")\n",
    "               .agg(round(sum(\"Sales\"), 2).alias(\"TotalSales\"))\n",
    "               .orderBy(\"TotalSales\", ascending=False))"
   ]
  },
  {
   "cell_type": "code",
   "execution_count": 0,
   "metadata": {
    "application/vnd.databricks.v1+cell": {
     "cellMetadata": {
      "byteLimit": 2048000,
      "rowLimit": 10000
     },
     "inputWidgets": {},
     "nuid": "11022417-3d56-444d-ac58-52bdca7fefda",
     "showTitle": false,
     "title": ""
    }
   },
   "outputs": [
    {
     "output_type": "stream",
     "name": "stdout",
     "output_type": "stream",
     "text": [
      "+-----+----------+\n|Month|TotalSales|\n+-----+----------+\n|12   |4613443.32|\n|10   |3736726.86|\n|4    |3390670.22|\n|11   |3199603.18|\n|5    |3152606.73|\n|3    |2807100.37|\n|7    |2647775.75|\n|6    |2577802.25|\n|8    |2244467.87|\n|2    |2202022.41|\n+-----+----------+\nonly showing top 10 rows\n\n"
     ]
    }
   ],
   "source": [
    "sales_q1_df.show(10, False)"
   ]
  },
  {
   "cell_type": "code",
   "execution_count": 0,
   "metadata": {
    "application/vnd.databricks.v1+cell": {
     "cellMetadata": {
      "byteLimit": 2048000,
      "rowLimit": 10000
     },
     "inputWidgets": {},
     "nuid": "34d30fba-cd99-49c7-826c-988392e74349",
     "showTitle": false,
     "title": ""
    }
   },
   "outputs": [],
   "source": [
    "pd_sales_q1 = (sales_q1_df.orderBy(\"Month\")).toPandas()"
   ]
  },
  {
   "cell_type": "code",
   "execution_count": 0,
   "metadata": {
    "application/vnd.databricks.v1+cell": {
     "cellMetadata": {
      "byteLimit": 2048000,
      "rowLimit": 10000
     },
     "inputWidgets": {},
     "nuid": "c15dd14b-f4e2-463c-bc30-ad02c50f29f8",
     "showTitle": false,
     "title": ""
    }
   },
   "outputs": [
    {
     "output_type": "execute_result",
     "data": {
      "text/html": [
       "<div>\n",
       "<style scoped>\n",
       "    .dataframe tbody tr th:only-of-type {\n",
       "        vertical-align: middle;\n",
       "    }\n",
       "\n",
       "    .dataframe tbody tr th {\n",
       "        vertical-align: top;\n",
       "    }\n",
       "\n",
       "    .dataframe thead th {\n",
       "        text-align: right;\n",
       "    }\n",
       "</style>\n",
       "<table border=\"1\" class=\"dataframe\">\n",
       "  <thead>\n",
       "    <tr style=\"text-align: right;\">\n",
       "      <th></th>\n",
       "      <th>Month</th>\n",
       "      <th>TotalSales</th>\n",
       "    </tr>\n",
       "  </thead>\n",
       "  <tbody>\n",
       "    <tr>\n",
       "      <th>0</th>\n",
       "      <td>1</td>\n",
       "      <td>1813586.43</td>\n",
       "    </tr>\n",
       "    <tr>\n",
       "      <th>1</th>\n",
       "      <td>2</td>\n",
       "      <td>2202022.41</td>\n",
       "    </tr>\n",
       "    <tr>\n",
       "      <th>2</th>\n",
       "      <td>3</td>\n",
       "      <td>2807100.37</td>\n",
       "    </tr>\n",
       "    <tr>\n",
       "      <th>3</th>\n",
       "      <td>4</td>\n",
       "      <td>3390670.22</td>\n",
       "    </tr>\n",
       "    <tr>\n",
       "      <th>4</th>\n",
       "      <td>5</td>\n",
       "      <td>3152606.73</td>\n",
       "    </tr>\n",
       "    <tr>\n",
       "      <th>5</th>\n",
       "      <td>6</td>\n",
       "      <td>2577802.25</td>\n",
       "    </tr>\n",
       "    <tr>\n",
       "      <th>6</th>\n",
       "      <td>7</td>\n",
       "      <td>2647775.75</td>\n",
       "    </tr>\n",
       "    <tr>\n",
       "      <th>7</th>\n",
       "      <td>8</td>\n",
       "      <td>2244467.87</td>\n",
       "    </tr>\n",
       "    <tr>\n",
       "      <th>8</th>\n",
       "      <td>9</td>\n",
       "      <td>2097560.12</td>\n",
       "    </tr>\n",
       "    <tr>\n",
       "      <th>9</th>\n",
       "      <td>10</td>\n",
       "      <td>3736726.86</td>\n",
       "    </tr>\n",
       "    <tr>\n",
       "      <th>10</th>\n",
       "      <td>11</td>\n",
       "      <td>3199603.18</td>\n",
       "    </tr>\n",
       "    <tr>\n",
       "      <th>11</th>\n",
       "      <td>12</td>\n",
       "      <td>4613443.32</td>\n",
       "    </tr>\n",
       "  </tbody>\n",
       "</table>\n",
       "</div>"
      ],
      "text/plain": [
       "    Month  TotalSales\n",
       "0       1  1813586.43\n",
       "1       2  2202022.41\n",
       "2       3  2807100.37\n",
       "3       4  3390670.22\n",
       "4       5  3152606.73\n",
       "5       6  2577802.25\n",
       "6       7  2647775.75\n",
       "7       8  2244467.87\n",
       "8       9  2097560.12\n",
       "9      10  3736726.86\n",
       "10     11  3199603.18\n",
       "11     12  4613443.32"
      ]
     },
     "execution_count": 13,
     "metadata": {},
     "output_type": "execute_result"
    }
   ],
   "source": [
    "pd_sales_q1"
   ]
  },
  {
   "cell_type": "code",
   "execution_count": 0,
   "metadata": {
    "application/vnd.databricks.v1+cell": {
     "cellMetadata": {
      "byteLimit": 2048000,
      "rowLimit": 10000
     },
     "inputWidgets": {},
     "nuid": "582ff957-200f-4570-ada9-8f06d1ca3b4b",
     "showTitle": false,
     "title": ""
    }
   },
   "outputs": [
    {
     "output_type": "display_data",
     "data": {
      "image/png": "[encoded data removed]",
      "text/plain": [
       "<Figure size 1000x600 with 1 Axes>"
      ]
     },
     "metadata": {},
     "output_type": "display_data"
    }
   ],
   "source": [
    "plt.figure(figsize=(10,6))\n",
    "plt.ticklabel_format(useOffset=False, style='plain')\n",
    "sns.set_theme(style='whitegrid')\n",
    "sns.barplot(x=\"Month\", y=\"TotalSales\", data=pd_sales_q1).set_title(\"Total Sales per Month\")\n",
    "plt.ylabel(\"Total Sales\")\n",
    "plt.show()"
   ]
  },
  {
   "cell_type": "markdown",
   "metadata": {
    "application/vnd.databricks.v1+cell": {
     "cellMetadata": {},
     "inputWidgets": {},
     "nuid": "d59dc8a9-8199-48a6-a6b2-d2babed47c14",
     "showTitle": false,
     "title": ""
    }
   },
   "source": [
    "### Q2: Which city actually sold the most products?"
   ]
  },
  {
   "cell_type": "code",
   "execution_count": 0,
   "metadata": {
    "application/vnd.databricks.v1+cell": {
     "cellMetadata": {
      "byteLimit": 2048000,
      "rowLimit": 10000
     },
     "inputWidgets": {},
     "nuid": "170bf52e-3cb3-4f8b-9ea8-6f4041b6cc7a",
     "showTitle": false,
     "title": ""
    }
   },
   "outputs": [
    {
     "output_type": "stream",
     "name": "stdout",
     "output_type": "stream",
     "text": [
      "+-------+--------------------+--------+------+-------------------+--------------------+--------------+-----+-----+\n|OrderID|             Product|Quantity| Price|          OrderDate|        StoreAddress|          City|State|Month|\n+-------+--------------------+--------+------+-------------------+--------------------+--------------+-----+-----+\n| 295665|  Macbook Pro Laptop|       1|1700.0|2019-12-30 00:01:00|136 Church St, Ne...| New York City|   NY|   12|\n| 295666|  LG Washing Machine|       1| 600.0|2019-12-29 07:03:00|562 2nd St, New Y...| New York City|   NY|   12|\n| 295667|USB-C Charging Cable|       1| 11.95|2019-12-12 18:21:00|277 Main St, New ...| New York City|   NY|   12|\n| 295668|    27in FHD Monitor|       1|149.99|2019-12-22 15:13:00|410 6th St, San F...| San Francisco|   CA|   12|\n| 295669|USB-C Charging Cable|       1| 11.95|2019-12-18 12:38:00|43 Hill St, Atlan...|       Atlanta|   GA|   12|\n| 295670|AA Batteries (4-p...|       1|  3.84|2019-12-31 22:58:00|200 Jefferson St,...| New York City|   NY|   12|\n| 295671|USB-C Charging Cable|       1| 11.95|2019-12-16 15:10:00|928 12th St, Port...|      Portland|   OR|   12|\n| 295672|USB-C Charging Cable|       2| 11.95|2019-12-13 09:29:00|813 Hickory St, D...|        Dallas|   TX|   12|\n| 295673|Bose SoundSport H...|       1| 99.99|2019-12-15 23:26:00|718 Wilson St, Da...|        Dallas|   TX|   12|\n| 295674|AAA Batteries (4-...|       4|  2.99|2019-12-28 11:51:00|77 7th St, Dallas...|        Dallas|   TX|   12|\n+-------+--------------------+--------+------+-------------------+--------------------+--------------+-----+-----+\nonly showing top 10 rows\n\n"
     ]
    }
   ],
   "source": [
    "sales2019_df.show(10)"
   ]
  },
  {
   "cell_type": "code",
   "execution_count": 0,
   "metadata": {
    "application/vnd.databricks.v1+cell": {
     "cellMetadata": {
      "byteLimit": 2048000,
      "rowLimit": 10000
     },
     "inputWidgets": {},
     "nuid": "ccfc1935-2323-4828-8879-04e0874556db",
     "showTitle": false,
     "title": ""
    }
   },
   "outputs": [
    {
     "output_type": "stream",
     "name": "stdout",
     "output_type": "stream",
     "text": [
      "+-------+--------+--------------+\n|OrderID|Quantity|          City|\n+-------+--------+--------------+\n| 295665|       1| New York City|\n| 295666|       1| New York City|\n| 295667|       1| New York City|\n| 295668|       1| San Francisco|\n| 295669|       1|       Atlanta|\n| 295670|       1| New York City|\n| 295671|       1|      Portland|\n| 295672|       2|        Dallas|\n| 295673|       1|        Dallas|\n| 295674|       4|        Dallas|\n| 295675|       2| San Francisco|\n| 295676|       1|   Los Angeles|\n| 295677|       2|        Boston|\n| 295678|       2|        Dallas|\n| 295679|       1|        Dallas|\n| 295680|       1|        Austin|\n| 295681|       1|        Boston|\n| 295681|       1|        Boston|\n| 295681|       1|        Boston|\n| 295681|       1|        Boston|\n+-------+--------+--------------+\nonly showing top 20 rows\n\n"
     ]
    }
   ],
   "source": [
    "sales2019_df.select(\"OrderID\", \"Quantity\", \"City\").show()"
   ]
  },
  {
   "cell_type": "code",
   "execution_count": 0,
   "metadata": {
    "application/vnd.databricks.v1+cell": {
     "cellMetadata": {
      "byteLimit": 2048000,
      "rowLimit": 10000
     },
     "inputWidgets": {},
     "nuid": "bd620307-2304-4324-bfbd-c7e00e06525e",
     "showTitle": false,
     "title": ""
    }
   },
   "outputs": [],
   "source": [
    "sales_q2_df = (sales2019_df.groupby(\"City\")\n",
    "               .agg(sum(\"Quantity\").alias(\"TotalProducts\"))\n",
    "               .orderBy(\"TotalProducts\", ascending=False))"
   ]
  },
  {
   "cell_type": "code",
   "execution_count": 0,
   "metadata": {
    "application/vnd.databricks.v1+cell": {
     "cellMetadata": {
      "byteLimit": 2048000,
      "rowLimit": 10000
     },
     "inputWidgets": {},
     "nuid": "d3754922-e858-413c-a1ee-1d14c1721af5",
     "showTitle": false,
     "title": ""
    }
   },
   "outputs": [],
   "source": [
    "pd_sales_q2 = sales_q2_df.toPandas()"
   ]
  },
  {
   "cell_type": "code",
   "execution_count": 0,
   "metadata": {
    "application/vnd.databricks.v1+cell": {
     "cellMetadata": {
      "byteLimit": 2048000,
      "rowLimit": 10000
     },
     "inputWidgets": {},
     "nuid": "cb9b55b3-39bc-4989-8435-53840e67cc55",
     "showTitle": false,
     "title": ""
    }
   },
   "outputs": [
    {
     "output_type": "execute_result",
     "data": {
      "text/html": [
       "<div>\n",
       "<style scoped>\n",
       "    .dataframe tbody tr th:only-of-type {\n",
       "        vertical-align: middle;\n",
       "    }\n",
       "\n",
       "    .dataframe tbody tr th {\n",
       "        vertical-align: top;\n",
       "    }\n",
       "\n",
       "    .dataframe thead th {\n",
       "        text-align: right;\n",
       "    }\n",
       "</style>\n",
       "<table border=\"1\" class=\"dataframe\">\n",
       "  <thead>\n",
       "    <tr style=\"text-align: right;\">\n",
       "      <th></th>\n",
       "      <th>City</th>\n",
       "      <th>TotalProducts</th>\n",
       "    </tr>\n",
       "  </thead>\n",
       "  <tbody>\n",
       "    <tr>\n",
       "      <th>0</th>\n",
       "      <td>San Francisco</td>\n",
       "      <td>50226</td>\n",
       "    </tr>\n",
       "    <tr>\n",
       "      <th>1</th>\n",
       "      <td>Los Angeles</td>\n",
       "      <td>33288</td>\n",
       "    </tr>\n",
       "    <tr>\n",
       "      <th>2</th>\n",
       "      <td>New York City</td>\n",
       "      <td>27916</td>\n",
       "    </tr>\n",
       "    <tr>\n",
       "      <th>3</th>\n",
       "      <td>Boston</td>\n",
       "      <td>22524</td>\n",
       "    </tr>\n",
       "    <tr>\n",
       "      <th>4</th>\n",
       "      <td>Dallas</td>\n",
       "      <td>16728</td>\n",
       "    </tr>\n",
       "    <tr>\n",
       "      <th>5</th>\n",
       "      <td>Atlanta</td>\n",
       "      <td>16602</td>\n",
       "    </tr>\n",
       "    <tr>\n",
       "      <th>6</th>\n",
       "      <td>Seattle</td>\n",
       "      <td>16552</td>\n",
       "    </tr>\n",
       "    <tr>\n",
       "      <th>7</th>\n",
       "      <td>Portland</td>\n",
       "      <td>14051</td>\n",
       "    </tr>\n",
       "    <tr>\n",
       "      <th>8</th>\n",
       "      <td>Austin</td>\n",
       "      <td>11151</td>\n",
       "    </tr>\n",
       "  </tbody>\n",
       "</table>\n",
       "</div>"
      ],
      "text/plain": [
       "             City  TotalProducts\n",
       "0   San Francisco          50226\n",
       "1     Los Angeles          33288\n",
       "2   New York City          27916\n",
       "3          Boston          22524\n",
       "4          Dallas          16728\n",
       "5         Atlanta          16602\n",
       "6         Seattle          16552\n",
       "7        Portland          14051\n",
       "8          Austin          11151"
      ]
     },
     "execution_count": 23,
     "metadata": {},
     "output_type": "execute_result"
    }
   ],
   "source": [
    "pd_sales_q2"
   ]
  },
  {
   "cell_type": "code",
   "execution_count": 0,
   "metadata": {
    "application/vnd.databricks.v1+cell": {
     "cellMetadata": {
      "byteLimit": 2048000,
      "rowLimit": 10000
     },
     "inputWidgets": {},
     "nuid": "ab781127-defc-4b0b-aee9-5a449220957f",
     "showTitle": false,
     "title": ""
    }
   },
   "outputs": [
    {
     "output_type": "display_data",
     "data": {
      "image/png": "[encoded data removed]",
      "text/plain": [
       "<Figure size 1000x600 with 1 Axes>"
      ]
     },
     "metadata": {},
     "output_type": "display_data"
    }
   ],
   "source": [
    "plt.figure(figsize=(10,6))\n",
    "plt.ticklabel_format(useOffset=False, style='plain')\n",
    "sns.set_theme(style='whitegrid')\n",
    "sns.barplot(x=\"TotalProducts\", y=\"City\", data=pd_sales_q2).set_title(\"Total Products Sold per City\")\n",
    "plt.ylabel(\"Total Products\")\n",
    "plt.show()"
   ]
  },
  {
   "cell_type": "markdown",
   "metadata": {
    "application/vnd.databricks.v1+cell": {
     "cellMetadata": {
      "byteLimit": 2048000,
      "rowLimit": 10000
     },
     "inputWidgets": {},
     "nuid": "f60c9175-64d9-4546-b830-5316096b4c10",
     "showTitle": false,
     "title": ""
    }
   },
   "source": [
    "### Q3: What time should we display advertisements to maximize the likelihood of customers buying products?"
   ]
  },
  {
   "cell_type": "code",
   "execution_count": 0,
   "metadata": {
    "application/vnd.databricks.v1+cell": {
     "cellMetadata": {
      "byteLimit": 2048000,
      "rowLimit": 10000
     },
     "inputWidgets": {},
     "nuid": "b37f9848-370c-4fee-81f3-a455108de3fe",
     "showTitle": false,
     "title": ""
    }
   },
   "outputs": [],
   "source": [
    "from pyspark.sql.functions import count, date_format"
   ]
  },
  {
   "cell_type": "code",
   "execution_count": 0,
   "metadata": {
    "application/vnd.databricks.v1+cell": {
     "cellMetadata": {
      "byteLimit": 2048000,
      "rowLimit": 10000
     },
     "inputWidgets": {},
     "nuid": "7039e4c4-ae4e-40db-bcde-ea1165b07f88",
     "showTitle": false,
     "title": ""
    }
   },
   "outputs": [
    {
     "output_type": "stream",
     "name": "stdout",
     "output_type": "stream",
     "text": [
      "+-------+-----+\n|OrderID|count|\n+-------+-----+\n|300601 |2    |\n|304276 |2    |\n|310188 |2    |\n|261569 |2    |\n|265863 |2    |\n|269251 |2    |\n|276515 |2    |\n|277349 |2    |\n|193640 |2    |\n|284489 |2    |\n+-------+-----+\nonly showing top 10 rows\n\n"
     ]
    }
   ],
   "source": [
    "sales2019_df.groupby(\"OrderID\").agg(count(\"OrderID\").alias('count')).where(col(\"count\") > 1).show(10, False)"
   ]
  },
  {
   "cell_type": "code",
   "execution_count": 0,
   "metadata": {
    "application/vnd.databricks.v1+cell": {
     "cellMetadata": {
      "byteLimit": 2048000,
      "rowLimit": 10000
     },
     "inputWidgets": {},
     "nuid": "782efe93-7b3c-4ab6-9b68-1808c858d44d",
     "showTitle": false,
     "title": ""
    }
   },
   "outputs": [
    {
     "output_type": "stream",
     "name": "stdout",
     "output_type": "stream",
     "text": [
      "+-------+---------------+--------+------+-------------------+-----------------------------------+--------------+-----+-----+\n|OrderID|Product        |Quantity|Price |OrderDate          |StoreAddress                       |City          |State|Month|\n+-------+---------------+--------+------+-------------------+-----------------------------------+--------------+-----+-----+\n|304276 |ThinkPad Laptop|1       |999.99|2019-12-15 06:07:00|358 5th St, New York City, NY 10001| New York City|NY   |12   |\n|304276 |iPhone         |1       |700.0 |2019-12-15 06:07:00|358 5th St, New York City, NY 10001| New York City|NY   |12   |\n+-------+---------------+--------+------+-------------------+-----------------------------------+--------------+-----+-----+\n\n"
     ]
    }
   ],
   "source": [
    "sales2019_df.filter(col(\"OrderID\") == 304276).show(truncate=False)"
   ]
  },
  {
   "cell_type": "code",
   "execution_count": 0,
   "metadata": {
    "application/vnd.databricks.v1+cell": {
     "cellMetadata": {
      "byteLimit": 2048000,
      "rowLimit": 10000
     },
     "inputWidgets": {},
     "nuid": "de716386-64a0-496f-943a-eef984f8c595",
     "showTitle": false,
     "title": ""
    }
   },
   "outputs": [],
   "source": [
    "sales_q3_df = (sales2019_df.select(\"OrderID\", date_format(\"OrderDate\", \"HH\").cast('int').alias(\"Hour\"))\n",
    "                            .distinct()\n",
    "                            .groupBy(\"Hour\")\n",
    "                            .agg(count(\"Hour\").alias(\"TotalOrders\"))\n",
    "                            .orderBy(col(\"TotalOrders\"), ascending=False))"
   ]
  },
  {
   "cell_type": "code",
   "execution_count": 0,
   "metadata": {
    "application/vnd.databricks.v1+cell": {
     "cellMetadata": {
      "byteLimit": 2048000,
      "rowLimit": 10000
     },
     "inputWidgets": {},
     "nuid": "f9698b30-8fc6-41ea-b9b1-bbb61173c848",
     "showTitle": false,
     "title": ""
    }
   },
   "outputs": [],
   "source": [
    "pd_sales_q3 = sales_q3_df.toPandas()"
   ]
  },
  {
   "cell_type": "code",
   "execution_count": 0,
   "metadata": {
    "application/vnd.databricks.v1+cell": {
     "cellMetadata": {
      "byteLimit": 2048000,
      "rowLimit": 10000
     },
     "inputWidgets": {},
     "nuid": "49037bbe-c6a5-4407-9f9c-f5413c0da7fd",
     "showTitle": false,
     "title": ""
    }
   },
   "outputs": [
    {
     "output_type": "display_data",
     "data": {
      "image/png": "[encoded data removed]",
      "text/plain": [
       "<Figure size 1000x600 with 1 Axes>"
      ]
     },
     "metadata": {},
     "output_type": "display_data"
    }
   ],
   "source": [
    "plt.figure(figsize=(10,6))\n",
    "plt.ticklabel_format(useOffset=False, style='plain')\n",
    "sns.set_theme(style='whitegrid')\n",
    "sns.barplot(x=\"Hour\", y=\"TotalOrders\", data=pd_sales_q3)\n",
    "plt.ylabel(\"Total Orders\")\n",
    "plt.show()"
   ]
  },
  {
   "cell_type": "markdown",
   "metadata": {
    "application/vnd.databricks.v1+cell": {
     "cellMetadata": {},
     "inputWidgets": {},
     "nuid": "fa00fc9f-1836-47e9-b83b-f609a8958f5b",
     "showTitle": false,
     "title": ""
    }
   },
   "source": [
    "### Q4. What products are most often sold together in the state of NY?"
   ]
  },
  {
   "cell_type": "code",
   "execution_count": 0,
   "metadata": {
    "application/vnd.databricks.v1+cell": {
     "cellMetadata": {
      "byteLimit": 2048000,
      "rowLimit": 10000
     },
     "inputWidgets": {},
     "nuid": "8a4707e7-a44f-478d-aa83-cadf9b7abae1",
     "showTitle": false,
     "title": ""
    }
   },
   "outputs": [],
   "source": [
    "from pyspark.sql.functions import collect_list, size"
   ]
  },
  {
   "cell_type": "code",
   "execution_count": 0,
   "metadata": {
    "application/vnd.databricks.v1+cell": {
     "cellMetadata": {
      "byteLimit": 2048000,
      "rowLimit": 10000
     },
     "inputWidgets": {},
     "nuid": "ec708e08-7abd-48cb-8ebc-7416d718acc6",
     "showTitle": false,
     "title": ""
    }
   },
   "outputs": [],
   "source": [
    "sales_q4_df = (sales2019_df.where(col(\"State\") == 'NY').orderBy(\"OrderID\",\"Product\")\n",
    "                            .groupBy(\"OrderID\", \"State\")\n",
    "                            .agg(collect_list(\"Product\").alias(\"ProductList\")))"
   ]
  },
  {
   "cell_type": "code",
   "execution_count": 0,
   "metadata": {
    "application/vnd.databricks.v1+cell": {
     "cellMetadata": {
      "byteLimit": 2048000,
      "rowLimit": 10000
     },
     "inputWidgets": {},
     "nuid": "5988d892-3184-4ca5-81a4-b9497576c424",
     "showTitle": false,
     "title": ""
    }
   },
   "outputs": [
    {
     "output_type": "stream",
     "name": "stdout",
     "output_type": "stream",
     "text": [
      "+-------+-----+----------------------------+\n|OrderID|State|ProductList                 |\n+-------+-----+----------------------------+\n|141264 |NY   |[Apple Airpods Headphones]  |\n|141268 |NY   |[AA Batteries (4-pack)]     |\n|141272 |NY   |[AAA Batteries (4-pack)]    |\n|141278 |NY   |[Lightning Charging Cable]  |\n|141282 |NY   |[Vareebadd Phone]           |\n|141301 |NY   |[Apple Airpods Headphones]  |\n|141314 |NY   |[Macbook Pro Laptop]        |\n|141317 |NY   |[27in FHD Monitor]          |\n|141323 |NY   |[USB-C Charging Cable]      |\n|141343 |NY   |[Bose SoundSport Headphones]|\n+-------+-----+----------------------------+\nonly showing top 10 rows\n\n"
     ]
    }
   ],
   "source": [
    "sales_q4_df.show(10, False)"
   ]
  },
  {
   "cell_type": "code",
   "execution_count": 0,
   "metadata": {
    "application/vnd.databricks.v1+cell": {
     "cellMetadata": {
      "byteLimit": 2048000,
      "rowLimit": 10000
     },
     "inputWidgets": {},
     "nuid": "7370e0ec-e0dc-44d1-967b-c082554f3f1a",
     "showTitle": false,
     "title": ""
    }
   },
   "outputs": [
    {
     "output_type": "stream",
     "name": "stdout",
     "output_type": "stream",
     "text": [
      "+-------+-----+----------------------------------------+---------------+\n|OrderID|State|ProductList                             |ProductListSize|\n+-------+-----+----------------------------------------+---------------+\n|253929 |NY   |[20in Monitor, 27in 4K Gaming Monitor]  |2              |\n|158102 |NY   |[20in Monitor, AA Batteries (4-pack)]   |2              |\n|197004 |NY   |[20in Monitor, AA Batteries (4-pack)]   |2              |\n|248053 |NY   |[20in Monitor, AA Batteries (4-pack)]   |2              |\n|266247 |NY   |[20in Monitor, AA Batteries (4-pack)]   |2              |\n|176251 |NY   |[20in Monitor, AAA Batteries (4-pack)]  |2              |\n|194762 |NY   |[20in Monitor, AAA Batteries (4-pack)]  |2              |\n|245465 |NY   |[20in Monitor, AAA Batteries (4-pack)]  |2              |\n|234956 |NY   |[20in Monitor, Apple Airpods Headphones]|2              |\n|204645 |NY   |[20in Monitor, Apple Airpods Headphones]|2              |\n+-------+-----+----------------------------------------+---------------+\nonly showing top 10 rows\n\n"
     ]
    }
   ],
   "source": [
    "sales_q4_df = (sales_q4_df.withColumn(\"ProductListSize\", size(\"ProductList\")))\n",
    "sales_q4_df.filter(col(\"ProductListSize\") > 1).orderBy(\"ProductList\").show(10, False)"
   ]
  },
  {
   "cell_type": "code",
   "execution_count": 0,
   "metadata": {
    "application/vnd.databricks.v1+cell": {
     "cellMetadata": {
      "byteLimit": 2048000,
      "rowLimit": 10000
     },
     "inputWidgets": {},
     "nuid": "20cbc37e-8d9b-4fac-ad1f-66cd431dd5d6",
     "showTitle": false,
     "title": ""
    }
   },
   "outputs": [
    {
     "output_type": "stream",
     "name": "stdout",
     "output_type": "stream",
     "text": [
      "+-------------------------------------------------+-----+\n|ProductList                                      |count|\n+-------------------------------------------------+-----+\n|[Google Phone, USB-C Charging Cable]             |127  |\n|[Lightning Charging Cable, iPhone]               |126  |\n|[Google Phone, Wired Headphones]                 |53   |\n|[USB-C Charging Cable, Vareebadd Phone]          |50   |\n|[Wired Headphones, iPhone]                       |46   |\n|[Apple Airpods Headphones, iPhone]               |45   |\n|[Bose SoundSport Headphones, Google Phone]       |24   |\n|[Apple Airpods Headphones, Wired Headphones]     |19   |\n|[Vareebadd Phone, Wired Headphones]              |17   |\n|[AA Batteries (4-pack), Lightning Charging Cable]|16   |\n+-------------------------------------------------+-----+\nonly showing top 10 rows\n\n"
     ]
    }
   ],
   "source": [
    "(sales_q4_df.filter(col(\"ProductListSize\") > 1)\n",
    "            .groupby(\"ProductList\")\n",
    "            .count()\n",
    "            .orderBy(\"count\", ascending= False)).show(10, False)"
   ]
  }
 ],
 "metadata": {
  "application/vnd.databricks.v1+notebook": {
   "dashboards": [],
   "language": "python",
   "notebookMetadata": {
    "pythonIndentUnit": 4
   },
   "notebookName": "SparkSalesAnalytics_CompanyRequirement",
   "widgets": {}
  }
 },
 "nbformat": 4,
 "nbformat_minor": 0
}
